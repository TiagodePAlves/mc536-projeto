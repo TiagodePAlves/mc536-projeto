{
 "cells": [
  {
   "cell_type": "markdown",
   "metadata": {},
   "source": [
    "# RDF criado (exemplo)\n",
    "\n",
    "```turtle\n",
    "@base <http://localhost:9999/blazegraph/user> .\n",
    "@prefix def: <http://localhost:9999/blazegraph/user/def#> .\n",
    "@prefix val: <http://localhost:9999/blazegraph/user/val#> .\n",
    "@prefix rdf: <http://www.w3.org/1999/02/22-rdf-syntax-ns#> .\n",
    "@prefix rdfs: <http://www.w3.org/2000/01/rdf-schema#> .\n",
    "@prefix xsd: <http://www.w3.org/2001/XMLSchema#> .\n",
    "@prefix mesh: <http://id.nlm.nih.gov/mesh/> .\n",
    "\n",
    "def:Person rdf:type rdfs:Class .\n",
    "def:Sex rdf:type rdfs:Class .\n",
    "<#male> rdf:type def:Sex .\n",
    "<#female> rdf:type def:Sex .\n",
    "def:Country rdf:type rdfs:Class .\n",
    "\n",
    "val:age\n",
    "    rdf:type rdf:Property ;\n",
    "    rdf:range xsd:integer ;\n",
    "    rdf:domain def:Person .\n",
    "val:sex\n",
    "    rdf:type rdf:Property ;\n",
    "    rdf:range def:Sex ;\n",
    "    rdf:domain def:Person .\n",
    "val:country\n",
    "    rdf:type rdf:Property ;\n",
    "    rdf:range def:Country ;\n",
    "    rdf:domain def:Person .\n",
    "\n",
    "def:Trackable rdf:type rdfs:Class .\n",
    "def:Sympton rdf:type def:Trackable .\n",
    "def:Treatment rdf:type def:Trackable .\n",
    "def:Condition rdf:type def:Trackable .\n",
    "def:Tag rdf:type def:Trackable .\n",
    "def:Weather rdf:type def:Trackable .\n",
    "def:Food rdf:type def:Trackable .\n",
    "\n",
    "val:checkin\n",
    "    rdf:type rdf:Property ;\n",
    "    rdf:range def:Trackable ;\n",
    "    rdf:domain def:Person .\n",
    "\n",
    "<#CA> rdf:type def:Country .\n",
    "<#GB> rdf:type def:Country .\n",
    "<#US> rdf:type def:Country .\n",
    "\n",
    "<#T2>\n",
    "    rdf:type def:Trackable\n",
    "        , def:Tag\n",
    "        , mesh:D012816 ;\n",
    "    rdfs:label \"stressed\" .\n",
    "<#T6315>\n",
    "    rdf:type def:Trackable\n",
    "        , def:Treatment ;\n",
    "    rdfs:label \"Nortriptyline\" .\n",
    "<#T566>\n",
    "    rdf:type def:Trackable\n",
    "        , def:Symptom\n",
    "        , mesh:D012816 ;\n",
    "    rdfs:label \"physical fatigue\" .\n",
    "<#T64>\n",
    "    rdf:type def:Trackable\n",
    "        , def:Condition\n",
    "        , mesh:D003214 ;\n",
    "    rdfs:label \"Anxiety\" .\n",
    "\n",
    "<#UQEVuQwEAQL8ojazVvMktZe3AxDPjeA==>\n",
    "    rdf:type def:Person ;\n",
    "    val:age \"24\"^^xsd:integer ;\n",
    "    val:country <#US> ;\n",
    "    val:sex <#female> .\n",
    "<#UQEVuQwEA7tUb37v0MUSih8m+alXLjA==>\n",
    "    rdf:type def:Person ;\n",
    "    val:age \"18\"^^xsd:integer ;\n",
    "    val:country <#CA> .\n",
    "<#UQEVuQwEAIhXrBPs2YBY3WpiatObF0w==>\n",
    "    rdf:type def:Person .\n",
    "<#UQEVuQwEA6fJcMUaBTk1EifM2HtScmA==>\n",
    "    rdf:type def:Person ;\n",
    "    val:age \"1\"^^xsd:integer ;\n",
    "    val:country <#US> ;\n",
    "    val:sex <#female> .\n",
    "<#UQEVuQwEAAUYA/ruBhMEIzVFLZt5ujg==>\n",
    "    rdf:type def:Person ;\n",
    "    val:age \"18\"^^xsd:integer ;\n",
    "    val:country <#GB> ;\n",
    "    val:sex <#female> .\n",
    "<#UQEVuQwEAWDBTYYHlEaVjHcc0+koOgw==>\n",
    "    rdf:type def:Person ;\n",
    "    val:age \"27\"^^xsd:integer ;\n",
    "    val:country <#US> ;\n",
    "    val:sex <#female> .\n",
    "\n",
    "<#UQEVuQwEAQL8ojazVvMktZe3AxDPjeA==> val:checkin <#T2> .\n",
    "<#UQEVuQwEA7tUb37v0MUSih8m+alXLjA==> val:checkin <#T6315> .\n",
    "<#UQEVuQwEAIhXrBPs2YBY3WpiatObF0w==> val:checkin <#T566> .\n",
    "<#UQEVuQwEA6fJcMUaBTk1EifM2HtScmA==> val:checkin <#T64> .\n",
    "<#UQEVuQwEAAUYA/ruBhMEIzVFLZt5ujg==> val:checkin <#T64> .\n",
    "<#UQEVuQwEAWDBTYYHlEaVjHcc0+koOgw==> val:checkin <#T64> .\n",
    "\n",
    "\n",
    "```"
   ]
  },
  {
   "cell_type": "code",
   "execution_count": 1,
   "metadata": {
    "ExecuteTime": {
     "end_time": "2018-11-27T05:41:31.204672Z",
     "start_time": "2018-11-27T05:41:31.201859Z"
    }
   },
   "outputs": [
    {
     "data": {
      "text/html": [
       "<div class=\"krn-spql\"><div class=\"magic\">Endpoint set to: http://localhost:9999/sparql</div><div class=\"magic\">Return format: JSON</div><div class=\"magic\">Display: table</div><div class=\"magic\">Result maximum size: unlimited</div></div>"
      ],
      "text/plain": [
       "Endpoint set to: http://localhost:9999/sparql\n",
       "Return format: JSON\n",
       "Display: table\n",
       "Result maximum size: unlimited\n"
      ]
     },
     "metadata": {},
     "output_type": "display_data"
    }
   ],
   "source": [
    "%endpoint http://localhost:9999/sparql\n",
    "%format json\n",
    "%display table\n",
    "%show all"
   ]
  },
  {
   "cell_type": "markdown",
   "metadata": {},
   "source": [
    "# Análises"
   ]
  },
  {
   "cell_type": "markdown",
   "metadata": {},
   "source": [
    "### Pacientes que apresentam sintomas de dores"
   ]
  },
  {
   "cell_type": "code",
   "execution_count": 7,
   "metadata": {
    "ExecuteTime": {
     "end_time": "2018-11-27T05:43:28.962692Z",
     "start_time": "2018-11-27T05:43:28.921560Z"
    }
   },
   "outputs": [
    {
     "data": {
      "text/html": [
       "<div class=\"krn-spql\"><table><tr class=hdr><th>user</th></tr><tr class=odd><td class=val><a href=\"http://localhost:9999/blazegraph/kb#UQEVuQwEAa16phEWiakzo5yVe3AoYXw==\" target=\"_other\">http://localhost:9999/blazegraph/kb#UQEVuQwEAa16phEWiakzo5yVe3AoYXw==</a></td></tr><tr class=even><td class=val><a href=\"http://localhost:9999/blazegraph/kb#UQEVuQwEAGJD+BS6m2c98ckKKivvP9Q==\" target=\"_other\">http://localhost:9999/blazegraph/kb#UQEVuQwEAGJD+BS6m2c98ckKKivvP9Q==</a></td></tr><tr class=odd><td class=val><a href=\"http://localhost:9999/blazegraph/kb#UQEVuQwEA+ncvJRvfo6PtArpLX1N8xA==\" target=\"_other\">http://localhost:9999/blazegraph/kb#UQEVuQwEA+ncvJRvfo6PtArpLX1N8xA==</a></td></tr><tr class=even><td class=val><a href=\"http://localhost:9999/blazegraph/kb#UQEVuQwEA+W8JllWLkjFAsQ4c6a6cyQ==\" target=\"_other\">http://localhost:9999/blazegraph/kb#UQEVuQwEA+W8JllWLkjFAsQ4c6a6cyQ==</a></td></tr><tr class=odd><td class=val><a href=\"http://localhost:9999/blazegraph/kb#UQEVuQwEA15mK523OR0I1Tjwo/j2L+w==\" target=\"_other\">http://localhost:9999/blazegraph/kb#UQEVuQwEA15mK523OR0I1Tjwo/j2L+w==</a></td></tr><tr class=even><td class=val><a href=\"http://localhost:9999/blazegraph/kb#UQEVuQwEA1RXSu6cyjyeSV0rhoMNJjQ==\" target=\"_other\">http://localhost:9999/blazegraph/kb#UQEVuQwEA1RXSu6cyjyeSV0rhoMNJjQ==</a></td></tr><tr class=odd><td class=val><a href=\"http://localhost:9999/blazegraph/kb#UQEVuQwEA9FluRm70LH3BP39TQSLZtg==\" target=\"_other\">http://localhost:9999/blazegraph/kb#UQEVuQwEA9FluRm70LH3BP39TQSLZtg==</a></td></tr><tr class=even><td class=val><a href=\"http://localhost:9999/blazegraph/kb#UQEVuQwEA9Ir10QCDgqWpYBFjL8JCUg==\" target=\"_other\">http://localhost:9999/blazegraph/kb#UQEVuQwEA9Ir10QCDgqWpYBFjL8JCUg==</a></td></tr><tr class=odd><td class=val><a href=\"http://localhost:9999/blazegraph/kb#UQEVuQwEA9Zapo8JzpbOxEmirsqJRSQ==\" target=\"_other\">http://localhost:9999/blazegraph/kb#UQEVuQwEA9Zapo8JzpbOxEmirsqJRSQ==</a></td></tr><tr class=even><td class=val><a href=\"http://localhost:9999/blazegraph/kb#UQEVuQwEAb36Ts8p4rPdFnASvpoj1dQ==\" target=\"_other\">http://localhost:9999/blazegraph/kb#UQEVuQwEAb36Ts8p4rPdFnASvpoj1dQ==</a></td></tr><tr class=odd><td class=val><a href=\"http://localhost:9999/blazegraph/kb#UQEVuQwEAbA2cKD06dPpFwAw0YHH9wg==\" target=\"_other\">http://localhost:9999/blazegraph/kb#UQEVuQwEAbA2cKD06dPpFwAw0YHH9wg==</a></td></tr><tr class=even><td class=val><a href=\"http://localhost:9999/blazegraph/kb#UQEVuQwEAbmDcb0T7oEMVwKssXvrFSg==\" target=\"_other\">http://localhost:9999/blazegraph/kb#UQEVuQwEAbmDcb0T7oEMVwKssXvrFSg==</a></td></tr><tr class=odd><td class=val><a href=\"http://localhost:9999/blazegraph/kb#UQEVuQwEAD/OyZFijS3IKcLWpTAtRpA==\" target=\"_other\">http://localhost:9999/blazegraph/kb#UQEVuQwEAD/OyZFijS3IKcLWpTAtRpA==</a></td></tr><tr class=even><td class=val><a href=\"http://localhost:9999/blazegraph/kb#UQEVuQwEAdJD0HMVdiv9CM9bdkilPMg==\" target=\"_other\">http://localhost:9999/blazegraph/kb#UQEVuQwEAdJD0HMVdiv9CM9bdkilPMg==</a></td></tr><tr class=odd><td class=val><a href=\"http://localhost:9999/blazegraph/kb#UQEVuQwEAgu4h6TUSURerctVPXKDehA==\" target=\"_other\">http://localhost:9999/blazegraph/kb#UQEVuQwEAgu4h6TUSURerctVPXKDehA==</a></td></tr><tr class=even><td class=val><a href=\"http://localhost:9999/blazegraph/kb#UQEVuQwEAH0Cg0gQbiyC7/YKJsML53A==\" target=\"_other\">http://localhost:9999/blazegraph/kb#UQEVuQwEAH0Cg0gQbiyC7/YKJsML53A==</a></td></tr><tr class=odd><td class=val><a href=\"http://localhost:9999/blazegraph/kb#UQEVuQwEAiscrfKQjeIh6ndeCAF8lzg==\" target=\"_other\">http://localhost:9999/blazegraph/kb#UQEVuQwEAiscrfKQjeIh6ndeCAF8lzg==</a></td></tr><tr class=even><td class=val><a href=\"http://localhost:9999/blazegraph/kb#UQEVuQwEAkF2LMNbeNatn+uicRIrNWw==\" target=\"_other\">http://localhost:9999/blazegraph/kb#UQEVuQwEAkF2LMNbeNatn+uicRIrNWw==</a></td></tr><tr class=odd><td class=val><a href=\"http://localhost:9999/blazegraph/kb#UQEVuQwEAkwy98nvPwSgMOybP7H9o4g==\" target=\"_other\">http://localhost:9999/blazegraph/kb#UQEVuQwEAkwy98nvPwSgMOybP7H9o4g==</a></td></tr><tr class=even><td class=val><a href=\"http://localhost:9999/blazegraph/kb#UQEVuQwEAkYwwX8HTrOGs44/LUExJkQ==\" target=\"_other\">http://localhost:9999/blazegraph/kb#UQEVuQwEAkYwwX8HTrOGs44/LUExJkQ==</a></td></tr></table><div class=\"tinfo\">Total: 20, Shown: 20</div></div>"
      ]
     },
     "metadata": {},
     "output_type": "display_data"
    }
   ],
   "source": [
    "PREFIX def: <http://localhost:9999/blazegraph/kb/def#>\n",
    "PREFIX val: <http://localhost:9999/blazegraph/kb/val#>\n",
    "PREFIX rdfs: <http://www.w3.org/2000/01/rdf-schema#>\n",
    "\n",
    "SELECT DISTINCT ?person\n",
    "WHERE {\n",
    "    ?person val:checkin ?trackable .\n",
    "    ?trackable a def:Symptom ;\n",
    "        rdfs:label ?label .\n",
    "    FILTER REGEX(?label, 'pain', 'i')\n",
    "}\n",
    "LIMIT 20"
   ]
  },
  {
   "cell_type": "markdown",
   "metadata": {},
   "source": [
    "### Pares de sintomas coocorrentes"
   ]
  },
  {
   "cell_type": "code",
   "execution_count": 50,
   "metadata": {
    "ExecuteTime": {
     "end_time": "2018-11-27T06:16:13.230110Z",
     "start_time": "2018-11-27T06:16:13.186139Z"
    }
   },
   "outputs": [
    {
     "data": {
      "text/html": [
       "<div class=\"krn-spql\"><table><tr class=hdr><th>symptom1</th>\n",
       "<th>symptom2</th></tr><tr class=odd><td class=val>Hyopomania</td>\n",
       "<td class=val>Bowel problems</td></tr><tr class=even><td class=val>Hip pain</td>\n",
       "<td class=val>Bowel problems</td></tr><tr class=odd><td class=val>Bowel problems</td>\n",
       "<td class=val>Hyopomania</td></tr><tr class=even><td class=val>Hip pain</td>\n",
       "<td class=val>Hyopomania</td></tr><tr class=odd><td class=val>Bowel problems</td>\n",
       "<td class=val>Hip pain</td></tr><tr class=even><td class=val>Hyopomania</td>\n",
       "<td class=val>Hip pain</td></tr><tr class=odd><td class=val>Bowel problems</td>\n",
       "<td class=val>Back pain</td></tr><tr class=even><td class=val>Hyopomania</td>\n",
       "<td class=val>Back pain</td></tr><tr class=odd><td class=val>Hip pain</td>\n",
       "<td class=val>Back pain</td></tr><tr class=even><td class=val>Bowel problems</td>\n",
       "<td class=val>Leg pain</td></tr><tr class=odd><td class=val>Hyopomania</td>\n",
       "<td class=val>Leg pain</td></tr><tr class=even><td class=val>Hip pain</td>\n",
       "<td class=val>Leg pain</td></tr><tr class=odd><td class=val>Facial heating/feels feverish (but temp is low)</td>\n",
       "<td class=val>Chronic widespread pain</td></tr><tr class=even><td class=val>Bowel problems</td>\n",
       "<td class=val>Nausea</td></tr><tr class=odd><td class=val>Hyopomania</td>\n",
       "<td class=val>Nausea</td></tr><tr class=even><td class=val>Hip pain</td>\n",
       "<td class=val>Nausea</td></tr><tr class=odd><td class=val>Bowel problems</td>\n",
       "<td class=val>Neck pain</td></tr><tr class=even><td class=val>Hyopomania</td>\n",
       "<td class=val>Neck pain</td></tr><tr class=odd><td class=val>Hip pain</td>\n",
       "<td class=val>Neck pain</td></tr><tr class=even><td class=val>Bowel problems</td>\n",
       "<td class=val>Pelvic pain</td></tr></table><div class=\"tinfo\">Total: 20, Shown: 20</div></div>"
      ]
     },
     "metadata": {},
     "output_type": "display_data"
    }
   ],
   "source": [
    "PREFIX def: <http://localhost:9999/blazegraph/kb/def#>\n",
    "PREFIX val: <http://localhost:9999/blazegraph/kb/val#>\n",
    "PREFIX rdfs: <http://www.w3.org/2000/01/rdf-schema#>\n",
    "\n",
    "SELECT DISTINCT ?symptom1 ?symptom2\n",
    "WHERE {\n",
    "    ?t1 a def:Symptom ;\n",
    "        rdfs:label ?symptom1 .\n",
    "    ?t2 a def:Symptom ;\n",
    "        rdfs:label ?symptom2 .\n",
    "\n",
    "    ?user val:checkin ?t1 .\n",
    "    ?user val:checkin ?t2 .\n",
    "    \n",
    "    FILTER (?t1 != ?t2)\n",
    "}\n",
    "LIMIT 20"
   ]
  },
  {
   "cell_type": "markdown",
   "metadata": {},
   "source": [
    "### Comidas que não foram relacionadas em algum país"
   ]
  },
  {
   "cell_type": "code",
   "execution_count": 4,
   "metadata": {
    "ExecuteTime": {
     "end_time": "2018-11-27T05:41:31.319672Z",
     "start_time": "2018-11-27T05:41:31.281550Z"
    }
   },
   "outputs": [
    {
     "data": {
      "text/html": [
       "<div class=\"krn-spql\"><table><tr class=hdr><th>food</th>\n",
       "<th>country</th></tr><tr class=odd><td class=val>lamb</td>\n",
       "<td class=val><a href=\"http://localhost:9999/blazegraph/kb#AE\" target=\"_other\">http://localhost:9999/blazegraph/kb#AE</a></td></tr><tr class=even><td class=val>Turkey Sandwich</td>\n",
       "<td class=val><a href=\"http://localhost:9999/blazegraph/kb#AE\" target=\"_other\">http://localhost:9999/blazegraph/kb#AE</a></td></tr><tr class=odd><td class=val>raisins</td>\n",
       "<td class=val><a href=\"http://localhost:9999/blazegraph/kb#AE\" target=\"_other\">http://localhost:9999/blazegraph/kb#AE</a></td></tr><tr class=even><td class=val>kale</td>\n",
       "<td class=val><a href=\"http://localhost:9999/blazegraph/kb#AE\" target=\"_other\">http://localhost:9999/blazegraph/kb#AE</a></td></tr><tr class=odd><td class=val>lime</td>\n",
       "<td class=val><a href=\"http://localhost:9999/blazegraph/kb#AE\" target=\"_other\">http://localhost:9999/blazegraph/kb#AE</a></td></tr><tr class=even><td class=val>drinkable yogurt</td>\n",
       "<td class=val><a href=\"http://localhost:9999/blazegraph/kb#AE\" target=\"_other\">http://localhost:9999/blazegraph/kb#AE</a></td></tr><tr class=odd><td class=val>decaf coffee</td>\n",
       "<td class=val><a href=\"http://localhost:9999/blazegraph/kb#AE\" target=\"_other\">http://localhost:9999/blazegraph/kb#AE</a></td></tr><tr class=even><td class=val>sweet potato chips</td>\n",
       "<td class=val><a href=\"http://localhost:9999/blazegraph/kb#AE\" target=\"_other\">http://localhost:9999/blazegraph/kb#AE</a></td></tr><tr class=odd><td class=val>caffeine</td>\n",
       "<td class=val><a href=\"http://localhost:9999/blazegraph/kb#AE\" target=\"_other\">http://localhost:9999/blazegraph/kb#AE</a></td></tr><tr class=even><td class=val>granola</td>\n",
       "<td class=val><a href=\"http://localhost:9999/blazegraph/kb#AE\" target=\"_other\">http://localhost:9999/blazegraph/kb#AE</a></td></tr><tr class=odd><td class=val>gelatin</td>\n",
       "<td class=val><a href=\"http://localhost:9999/blazegraph/kb#AE\" target=\"_other\">http://localhost:9999/blazegraph/kb#AE</a></td></tr><tr class=even><td class=val>Dark chocolate</td>\n",
       "<td class=val><a href=\"http://localhost:9999/blazegraph/kb#AE\" target=\"_other\">http://localhost:9999/blazegraph/kb#AE</a></td></tr><tr class=odd><td class=val>avocado toast</td>\n",
       "<td class=val><a href=\"http://localhost:9999/blazegraph/kb#AE\" target=\"_other\">http://localhost:9999/blazegraph/kb#AE</a></td></tr><tr class=even><td class=val>cheese on toast</td>\n",
       "<td class=val><a href=\"http://localhost:9999/blazegraph/kb#AE\" target=\"_other\">http://localhost:9999/blazegraph/kb#AE</a></td></tr><tr class=odd><td class=val>peanut butter toast</td>\n",
       "<td class=val><a href=\"http://localhost:9999/blazegraph/kb#AE\" target=\"_other\">http://localhost:9999/blazegraph/kb#AE</a></td></tr><tr class=even><td class=val>almond milk yogurt</td>\n",
       "<td class=val><a href=\"http://localhost:9999/blazegraph/kb#AE\" target=\"_other\">http://localhost:9999/blazegraph/kb#AE</a></td></tr><tr class=odd><td class=val>veg/fruit</td>\n",
       "<td class=val><a href=\"http://localhost:9999/blazegraph/kb#AE\" target=\"_other\">http://localhost:9999/blazegraph/kb#AE</a></td></tr><tr class=even><td class=val>Sourdough</td>\n",
       "<td class=val><a href=\"http://localhost:9999/blazegraph/kb#AE\" target=\"_other\">http://localhost:9999/blazegraph/kb#AE</a></td></tr><tr class=odd><td class=val>blk water</td>\n",
       "<td class=val><a href=\"http://localhost:9999/blazegraph/kb#AE\" target=\"_other\">http://localhost:9999/blazegraph/kb#AE</a></td></tr><tr class=even><td class=val>cheese crackers</td>\n",
       "<td class=val><a href=\"http://localhost:9999/blazegraph/kb#AE\" target=\"_other\">http://localhost:9999/blazegraph/kb#AE</a></td></tr></table><div class=\"tinfo\">Total: 20, Shown: 20</div></div>"
      ]
     },
     "metadata": {},
     "output_type": "display_data"
    }
   ],
   "source": [
    "PREFIX def: <http://localhost:9999/blazegraph/kb/def#>\n",
    "PREFIX val: <http://localhost:9999/blazegraph/kb/val#>\n",
    "PREFIX rdfs: <http://www.w3.org/2000/01/rdf-schema#>\n",
    "\n",
    "SELECT DISTINCT ?food ?country\n",
    "WHERE {\n",
    "    ?food_node a def:Food ;\n",
    "        rdfs:label ?food .\n",
    "    ?country a def:Country .\n",
    "\n",
    "    FILTER NOT EXISTS {\n",
    "        ?user val:country ?country ;\n",
    "            val:checkin ?food_node .\n",
    "    }\n",
    "}\n",
    "LIMIT 20"
   ]
  },
  {
   "cell_type": "markdown",
   "metadata": {},
   "source": [
    "### Sintomas apresentados apenas no sexo masculino"
   ]
  },
  {
   "cell_type": "code",
   "execution_count": 5,
   "metadata": {
    "ExecuteTime": {
     "end_time": "2018-11-27T05:41:31.417938Z",
     "start_time": "2018-11-27T05:41:31.321187Z"
    }
   },
   "outputs": [
    {
     "data": {
      "text/html": [
       "<div class=\"krn-spql\"><table><tr class=hdr><th>symptom</th></tr><tr class=odd><td class=val>angst vor polizei</td></tr><tr class=even><td class=val>Torso Twitching</td></tr><tr class=odd><td class=val>Numbness and burning in feet</td></tr><tr class=even><td class=val>shoulder ache</td></tr><tr class=odd><td class=val>Difficulty swallowing</td></tr><tr class=even><td class=val>Hypersensitivity to pain</td></tr><tr class=odd><td class=val>Anger/Irritation</td></tr><tr class=even><td class=val>Happiness</td></tr><tr class=odd><td class=val>appetite</td></tr><tr class=even><td class=val>Incontinence</td></tr><tr class=odd><td class=val>Stomach upset</td></tr><tr class=even><td class=val>Neck/shoulder pain</td></tr><tr class=odd><td class=val>Energy Level</td></tr><tr class=even><td class=val>rage attacks</td></tr><tr class=odd><td class=val>Lack of Consentration</td></tr><tr class=even><td class=val>sore / stiff</td></tr><tr class=odd><td class=val>Lie down now or fall down</td></tr><tr class=even><td class=val>Brain vibrations</td></tr><tr class=odd><td class=val>Joint pain fingers</td></tr><tr class=even><td class=val>missed medicine</td></tr></table><div class=\"tinfo\">Total: 20, Shown: 20</div></div>"
      ]
     },
     "metadata": {},
     "output_type": "display_data"
    }
   ],
   "source": [
    "BASE <http://localhost:9999/blazegraph/kb>\n",
    "PREFIX def: <http://localhost:9999/blazegraph/kb/def#>\n",
    "PREFIX val: <http://localhost:9999/blazegraph/kb/val#>\n",
    "PREFIX rdfs: <http://www.w3.org/2000/01/rdf-schema#>\n",
    "\n",
    "SELECT DISTINCT ?symptom\n",
    "WHERE {\n",
    "    ?sympt_node a def:Symptom ;\n",
    "        rdfs:label ?symptom .\n",
    "\n",
    "    FILTER (EXISTS {\n",
    "        ?user val:sex <#male> ;\n",
    "            val:checkin ?sympt_node .\n",
    "    } && NOT EXISTS {\n",
    "        ?user val:sex <#female> ;\n",
    "            val:checkin ?sympt_node .\n",
    "    })\n",
    "}\n",
    "LIMIT 20"
   ]
  },
  {
   "cell_type": "markdown",
   "metadata": {},
   "source": [
    "### Sintomas e tratamentos de ansiedade por idade"
   ]
  },
  {
   "cell_type": "code",
   "execution_count": 46,
   "metadata": {
    "ExecuteTime": {
     "end_time": "2018-11-27T06:11:15.141626Z",
     "start_time": "2018-11-27T06:11:15.051325Z"
    }
   },
   "outputs": [
    {
     "data": {
      "text/html": [
       "<div class=\"krn-spql\"><table><tr class=hdr><th>age</th>\n",
       "<th>links</th>\n",
       "<th>users</th>\n",
       "<th>treatments</th></tr><tr class=odd><td class=val>18</td>\n",
       "<td class=val>2</td>\n",
       "<td class=val>2</td>\n",
       "<td class=val>2</td></tr><tr class=even><td class=val>19</td>\n",
       "<td class=val>2</td>\n",
       "<td class=val>1</td>\n",
       "<td class=val>2</td></tr><tr class=odd><td class=val>20</td>\n",
       "<td class=val>2</td>\n",
       "<td class=val>2</td>\n",
       "<td class=val>2</td></tr><tr class=even><td class=val>22</td>\n",
       "<td class=val>1</td>\n",
       "<td class=val>1</td>\n",
       "<td class=val>1</td></tr><tr class=odd><td class=val>24</td>\n",
       "<td class=val>1</td>\n",
       "<td class=val>1</td>\n",
       "<td class=val>1</td></tr><tr class=even><td class=val>25</td>\n",
       "<td class=val>9</td>\n",
       "<td class=val>1</td>\n",
       "<td class=val>9</td></tr><tr class=odd><td class=val>26</td>\n",
       "<td class=val>3</td>\n",
       "<td class=val>1</td>\n",
       "<td class=val>3</td></tr><tr class=even><td class=val>27</td>\n",
       "<td class=val>6</td>\n",
       "<td class=val>4</td>\n",
       "<td class=val>6</td></tr><tr class=odd><td class=val>29</td>\n",
       "<td class=val>1</td>\n",
       "<td class=val>1</td>\n",
       "<td class=val>1</td></tr><tr class=even><td class=val>30</td>\n",
       "<td class=val>1</td>\n",
       "<td class=val>1</td>\n",
       "<td class=val>1</td></tr><tr class=odd><td class=val>31</td>\n",
       "<td class=val>20</td>\n",
       "<td class=val>2</td>\n",
       "<td class=val>20</td></tr><tr class=even><td class=val>32</td>\n",
       "<td class=val>9</td>\n",
       "<td class=val>4</td>\n",
       "<td class=val>9</td></tr><tr class=odd><td class=val>33</td>\n",
       "<td class=val>10</td>\n",
       "<td class=val>5</td>\n",
       "<td class=val>9</td></tr><tr class=even><td class=val>34</td>\n",
       "<td class=val>20</td>\n",
       "<td class=val>3</td>\n",
       "<td class=val>11</td></tr><tr class=odd><td class=val>37</td>\n",
       "<td class=val>19</td>\n",
       "<td class=val>5</td>\n",
       "<td class=val>19</td></tr><tr class=even><td class=val>38</td>\n",
       "<td class=val>2</td>\n",
       "<td class=val>2</td>\n",
       "<td class=val>2</td></tr><tr class=odd><td class=val>39</td>\n",
       "<td class=val>7</td>\n",
       "<td class=val>1</td>\n",
       "<td class=val>7</td></tr><tr class=even><td class=val>40</td>\n",
       "<td class=val>5</td>\n",
       "<td class=val>1</td>\n",
       "<td class=val>5</td></tr><tr class=odd><td class=val>41</td>\n",
       "<td class=val>1</td>\n",
       "<td class=val>1</td>\n",
       "<td class=val>1</td></tr><tr class=even><td class=val>42</td>\n",
       "<td class=val>5</td>\n",
       "<td class=val>1</td>\n",
       "<td class=val>5</td></tr><tr class=odd><td class=val>48</td>\n",
       "<td class=val>1</td>\n",
       "<td class=val>1</td>\n",
       "<td class=val>1</td></tr><tr class=even><td class=val>49</td>\n",
       "<td class=val>2</td>\n",
       "<td class=val>1</td>\n",
       "<td class=val>2</td></tr><tr class=odd><td class=val>53</td>\n",
       "<td class=val>1</td>\n",
       "<td class=val>1</td>\n",
       "<td class=val>1</td></tr></table><div class=\"tinfo\">Total: 23, Shown: 23</div></div>"
      ]
     },
     "metadata": {},
     "output_type": "display_data"
    }
   ],
   "source": [
    "PREFIX def: <http://localhost:9999/blazegraph/kb/def#>\n",
    "PREFIX val: <http://localhost:9999/blazegraph/kb/val#>\n",
    "PREFIX rdfs: <http://www.w3.org/2000/01/rdf-schema#>\n",
    "\n",
    "SELECT\n",
    "    ?age\n",
    "    (COUNT(?user) AS ?links)\n",
    "    (COUNT(DISTINCT ?user) AS ?users)\n",
    "    (COUNT(DISTINCT ?treatment) AS ?treatments)\n",
    "WHERE {\n",
    "    ?user val:age ?age ;\n",
    "        val:checkin ?symptom ;\n",
    "        val:checkin ?treatment .\n",
    "    ?treatment a def:Treatment .\n",
    "\n",
    "    ?symptom rdfs:label ?label .\n",
    "    FILTER REGEX(?label, 'anxiety', 'i')\n",
    "}\n",
    "GROUP BY ?age\n",
    "ORDER BY ?age"
   ]
  }
 ],
 "metadata": {
  "kernelspec": {
   "display_name": "SPARQL",
   "language": "sparql",
   "name": "sparql"
  },
  "language_info": {
   "codemirror_mode": {
    "name": "sparql"
   },
   "mimetype": "application/sparql-query",
   "name": "sparql",
   "pygments_lexer": "sparql-nb"
  },
  "toc": {
   "base_numbering": 1,
   "nav_menu": {},
   "number_sections": false,
   "sideBar": false,
   "skip_h1_title": false,
   "title_cell": "Table of Contents",
   "title_sidebar": "Contents",
   "toc_cell": false,
   "toc_position": {},
   "toc_section_display": false,
   "toc_window_display": false
  },
  "varInspector": {
   "cols": {
    "lenName": 16,
    "lenType": 16,
    "lenVar": 40
   },
   "kernels_config": {
    "python": {
     "delete_cmd_postfix": "",
     "delete_cmd_prefix": "del ",
     "library": "var_list.py",
     "varRefreshCmd": "print(var_dic_list())"
    },
    "r": {
     "delete_cmd_postfix": ") ",
     "delete_cmd_prefix": "rm(",
     "library": "var_list.r",
     "varRefreshCmd": "cat(var_dic_list()) "
    }
   },
   "types_to_exclude": [
    "module",
    "function",
    "builtin_function_or_method",
    "instance",
    "_Feature"
   ],
   "window_display": false
  }
 },
 "nbformat": 4,
 "nbformat_minor": 2
}
