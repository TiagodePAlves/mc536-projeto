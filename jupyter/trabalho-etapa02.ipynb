{
 "cells": [
  {
   "cell_type": "code",
   "execution_count": 1,
   "metadata": {
    "ExecuteTime": {
     "end_time": "2018-11-09T03:48+0000",
     "start_time": "2018-11-09T03:48+0000"
    }
   },
   "outputs": [],
   "source": [
    "%defaultDatasource jdbc:h2:mem:db"
   ]
  },
  {
   "cell_type": "code",
   "execution_count": 5,
   "metadata": {
    "ExecuteTime": {
     "end_time": "2018-11-09T03:51+0000",
     "start_time": "2018-11-09T03:51+0000"
    }
   },
   "outputs": [],
   "source": [
    "CREATE TABLE Paciente (\n",
    "  User_id VARCHAR(100) NOT NULL,\n",
    "  Age INTEGER,\n",
    "  Sex VARCHAR(30),\n",
    "  Country VARCHAR(10),\n",
    "  PRIMARY KEY(User_id)\n",
    ") AS SELECT DISTINCT\n",
    "    user_id,\n",
    "    age,\n",
    "    sex,\n",
    "    country\n",
    "FROM CSVREAD('https://media.githubusercontent.com/media/TiagodePAlves/mc536-projeto/master/dados/flaredown.csv');"
   ]
  },
  {
   "cell_type": "code",
   "execution_count": 7,
   "metadata": {
    "ExecuteTime": {
     "end_time": "2018-11-09T03:52+0000",
     "start_time": "2018-11-09T03:52+0000"
    }
   },
   "outputs": [
    {
     "data": {
      "text/plain": [
       "3623"
      ]
     },
     "execution_count": 7,
     "metadata": {},
     "output_type": "execute_result"
    }
   ],
   "source": [
    "SELECT COUNT(*) FROM Paciente;"
   ]
  }
 ],
 "metadata": {
  "kernelspec": {
   "display_name": "SQL",
   "language": "SQL",
   "name": "sql"
  },
  "language_info": {
   "codemirror_mode": "sql",
   "file_extension": ".sql",
   "mimetype": "",
   "name": "SQL",
   "nbconverter_exporter": "",
   "version": ""
  },
  "toc": {
   "base_numbering": 1,
   "nav_menu": {},
   "number_sections": false,
   "sideBar": false,
   "skip_h1_title": false,
   "title_cell": "Table of Contents",
   "title_sidebar": "Contents",
   "toc_cell": false,
   "toc_position": {},
   "toc_section_display": false,
   "toc_window_display": false
  },
  "varInspector": {
   "cols": {
    "lenName": 16,
    "lenType": 16,
    "lenVar": 40
   },
   "kernels_config": {
    "python": {
     "delete_cmd_postfix": "",
     "delete_cmd_prefix": "del ",
     "library": "var_list.py",
     "varRefreshCmd": "print(var_dic_list())"
    },
    "r": {
     "delete_cmd_postfix": ") ",
     "delete_cmd_prefix": "rm(",
     "library": "var_list.r",
     "varRefreshCmd": "cat(var_dic_list()) "
    }
   },
   "types_to_exclude": [
    "module",
    "function",
    "builtin_function_or_method",
    "instance",
    "_Feature"
   ],
   "window_display": false
  }
 },
 "nbformat": 4,
 "nbformat_minor": 2
}
