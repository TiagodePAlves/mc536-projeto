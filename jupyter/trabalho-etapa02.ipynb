{
 "cells": [
  {
   "cell_type": "code",
   "execution_count": 1,
   "metadata": {},
   "outputs": [],
   "source": [
    "%defaultDatasource jdbc:h2:mem:db"
   ]
  },
  {
   "cell_type": "markdown",
   "metadata": {},
   "source": [
    "# Criando as tabelas usadas para analise em SQL"
   ]
  },
  {
   "cell_type": "code",
   "execution_count": 2,
   "metadata": {},
   "outputs": [],
   "source": [
    "CREATE TABLE Paciente (\n",
    "  User_id VARCHAR(50) NOT NULL,\n",
    "  Age INTEGER,\n",
    "  Sex VARCHAR(30),\n",
    "  Country VARCHAR(10),\n",
    "  PRIMARY KEY(User_id)\n",
    ") AS SELECT DISTINCT\n",
    "    user_id,\n",
    "    age,\n",
    "    sex,\n",
    "    country\n",
    "FROM CSVREAD('https://media.githubusercontent.com/media/TiagodePAlves/mc536-projeto/master/dados/flaredown.csv');\n",
    "\n",
    "CREATE TABLE Trackable (\n",
    "  trackable_id INTEGER,\n",
    "  trackable_type VARCHAR(30),\n",
    "  trackable_name VARCHAR(300),\n",
    "  PRIMARY KEY(trackable_id)\n",
    ") AS SELECT DISTINCT\n",
    "    trackable_id,\n",
    "    trackable_type,\n",
    "    trackable_name\n",
    "FROM CSVREAD('https://media.githubusercontent.com/media/TiagodePAlves/mc536-projeto/master/dados/flaredown.csv');\n",
    "\n",
    "CREATE TABLE Possui (\n",
    "  id_paciente VARCHAR(100),\n",
    "  id_track INTEGER,  \n",
    "  checkin_date VARCHAR(10),\n",
    "  trackable_value VARCHAR(100),\n",
    "  FOREIGN KEY(id_paciente)\n",
    "    REFERENCES Paciente(User_id)\n",
    "      ON DELETE NO ACTION\n",
    "      ON UPDATE NO ACTION,\n",
    "  FOREIGN KEY(id_track)\n",
    "    REFERENCES Trackable(trackable_id)\n",
    "      ON DELETE NO ACTION\n",
    "      ON UPDATE NO ACTION\n",
    ") AS SELECT DISTINCT\n",
    "    user_id,\n",
    "    trackable_id,\n",
    "    checkin_date,\n",
    "    trackable_value\n",
    "FROM CSVREAD('https://media.githubusercontent.com/media/TiagodePAlves/mc536-projeto/master/dados/flaredown.csv');"
   ]
  },
  {
   "cell_type": "code",
   "execution_count": 10,
   "metadata": {},
   "outputs": [
    {
     "data": {
      "application/vnd.jupyter.widget-view+json": {
       "model_id": "8782624c-7874-40bb-9e37-13f365a9238b",
       "version_major": 2,
       "version_minor": 0
      },
      "method": "display_data"
     },
     "metadata": {},
     "output_type": "display_data"
    }
   ],
   "source": [
    "SELECT trackable_name AS name,trackable_type AS type, COUNT(trackable_value) AS contador\n",
    "FROM Trackable,Possui\n",
    "WHERE trackable_value = '3' OR trackable_value = '4' AND trackable_id = id_track AND trackable_name = 'Symptom'\n",
    "GROUP BY name,type\n",
    "ORDER BY contador DESC;"
   ]
  }
 ],
 "metadata": {
  "kernelspec": {
   "display_name": "SQL",
   "language": "SQL",
   "name": "sql"
  },
  "language_info": {
   "codemirror_mode": "sql",
   "file_extension": ".sql",
   "mimetype": "",
   "name": "SQL",
   "nbconverter_exporter": "",
   "version": ""
  }
 },
 "nbformat": 4,
 "nbformat_minor": 2
}
