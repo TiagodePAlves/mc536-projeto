{
 "cells": [
  {
   "cell_type": "code",
   "execution_count": 1,
   "metadata": {},
   "outputs": [],
   "source": [
    "%defaultDatasource jdbc:h2:mem:db"
   ]
  },
  {
   "cell_type": "code",
   "execution_count": 2,
   "metadata": {},
   "outputs": [],
   "source": [
    "CREATE TABLE Paciente (\n",
    "  User_id VARCHAR(50) NOT NULL,\n",
    "  Age INTEGER,\n",
    "  Sex VARCHAR(30),\n",
    "  Country VARCHAR(10),\n",
    "  PRIMARY KEY(User_id)\n",
    ") AS SELECT DISTINCT\n",
    "    user_id,\n",
    "    age,\n",
    "    sex,\n",
    "    country\n",
    "FROM CSVREAD('https://media.githubusercontent.com/media/TiagodePAlves/mc536-projeto/master/dados/flaredown.csv');\n",
    "\n",
    "CREATE TABLE Trackable (\n",
    "  trackable_id INTEGER,\n",
    "  trackable_type VARCHAR(30),\n",
    "  trackable_name VARCHAR(300),\n",
    "  PRIMARY KEY(trackable_id)\n",
    ") AS SELECT DISTINCT\n",
    "    trackable_id,\n",
    "    trackable_type,\n",
    "    trackable_name\n",
    "FROM CSVREAD('https://media.githubusercontent.com/media/TiagodePAlves/mc536-projeto/master/dados/flaredown.csv');\n",
    "\n",
    "CREATE TABLE Possui (\n",
    "  id_paciente VARCHAR(100),\n",
    "  id_track INTEGER,  \n",
    "  checkin_date VARCHAR(10),\n",
    "  trackable_value VARCHAR(100),\n",
    "  FOREIGN KEY(id_paciente)\n",
    "    REFERENCES Paciente(User_id)\n",
    "      ON DELETE NO ACTION\n",
    "      ON UPDATE NO ACTION,\n",
    "  FOREIGN KEY(id_track)\n",
    "    REFERENCES Trackable(trackable_id)\n",
    "      ON DELETE NO ACTION\n",
    "      ON UPDATE NO ACTION\n",
    ") AS SELECT DISTINCT\n",
    "    user_id,\n",
    "    trackable_id,\n",
    "    checkin_date,\n",
    "    trackable_value\n",
    "FROM CSVREAD('https://media.githubusercontent.com/media/TiagodePAlves/mc536-projeto/master/dados/flaredown.csv');"
   ]
  },
  {
   "cell_type": "code",
   "execution_count": 3,
   "metadata": {},
   "outputs": [
    {
     "data": {
      "application/vnd.jupyter.widget-view+json": {
       "model_id": "8e1f031e-6233-4c23-966e-9d25ff7704b5",
       "version_major": 2,
       "version_minor": 0
      },
      "method": "display_data"
     },
     "metadata": {},
     "output_type": "display_data"
    }
   ],
   "source": [
    "SELECT * FROM Paciente"
   ]
  },
  {
   "cell_type": "markdown",
   "metadata": {},
   "source": [
    "Query que retorna o numero de instancias de cada tipo de trackable."
   ]
  },
  {
   "cell_type": "code",
   "execution_count": 4,
   "metadata": {},
   "outputs": [
    {
     "data": {
      "application/vnd.jupyter.widget-view+json": {
       "model_id": "ab87c31b-5641-479a-bb54-157f8a461bb7",
       "version_major": 2,
       "version_minor": 0
      },
      "method": "display_data"
     },
     "metadata": {},
     "output_type": "display_data"
    }
   ],
   "source": [
    "SELECT trackable_type AS type,COUNT(trackable_type) AS contador\n",
    "FROM Trackable\n",
    "GROUP BY type\n",
    "ORDER BY contador DESC"
   ]
  },
  {
   "cell_type": "markdown",
   "metadata": {},
   "source": [
    "Query que retorna os sintomas que possuem mais ocorrência."
   ]
  },
  {
   "cell_type": "code",
   "execution_count": 5,
   "metadata": {},
   "outputs": [
    {
     "data": {
      "application/vnd.jupyter.widget-view+json": {
       "model_id": "b8f7bf31-4b6f-4aad-b231-a849a4aba211",
       "version_major": 2,
       "version_minor": 0
      },
      "method": "display_data"
     },
     "metadata": {},
     "output_type": "display_data"
    }
   ],
   "source": [
    "SELECT DISTINCT trackable_name AS name,COUNT(trackable_name) AS contador\n",
    "FROM Possui,Trackable,Paciente\n",
    "WHERE Paciente.User_id = Possui.id_paciente AND Possui.id_track = Trackable.trackable_id \n",
    "AND Trackable.trackable_type = 'Symptom'\n",
    "GROUP BY name\n",
    "ORDER BY contador DESC"
   ]
  },
  {
   "cell_type": "markdown",
   "metadata": {},
   "source": [
    "Query que retorna os tratamentos mais utilizados."
   ]
  },
  {
   "cell_type": "code",
   "execution_count": 6,
   "metadata": {},
   "outputs": [
    {
     "data": {
      "application/vnd.jupyter.widget-view+json": {
       "model_id": "27f4db85-69e8-46d4-9631-eef71c726318",
       "version_major": 2,
       "version_minor": 0
      },
      "method": "display_data"
     },
     "metadata": {},
     "output_type": "display_data"
    }
   ],
   "source": [
    "SELECT DISTINCT trackable_name AS name,COUNT(trackable_name) AS contador\n",
    "FROM Possui,Trackable,Paciente\n",
    "WHERE Paciente.User_id = Possui.id_paciente AND Possui.id_track = Trackable.trackable_id AND Trackable.trackable_type = 'Treatment'\n",
    "GROUP BY name\n",
    "ORDER BY contador DESC"
   ]
  },
  {
   "cell_type": "markdown",
   "metadata": {},
   "source": [
    "Query que busca os tratamentos mais utilizados para headache o sintoma com mais ocorrências na tabela."
   ]
  },
  {
   "cell_type": "code",
   "execution_count": 7,
   "metadata": {},
   "outputs": [
    {
     "data": {
      "application/vnd.jupyter.widget-view+json": {
       "model_id": "ad6dc938-ac47-45d4-a5c1-5edca3f10ce9",
       "version_major": 2,
       "version_minor": 0
      },
      "method": "display_data"
     },
     "metadata": {},
     "output_type": "display_data"
    }
   ],
   "source": [
    "CREATE VIEW Head AS\n",
    "SELECT id_paciente AS id\n",
    "FROM Possui\n",
    "WHERE id_track = 98;\n",
    "\n",
    "SELECT DISTINCT trackable_name AS name, COUNT(trackable_name) as contador\n",
    "FROM Possui,Head,Trackable\n",
    "WHERE Head.id = Possui.id_paciente AND Trackable.trackable_type = 'Treatment' \n",
    "AND Possui.id_track = Trackable.trackable_id\n",
    "GROUP BY name\n",
    "ORDER BY contador DESC"
   ]
  },
  {
   "cell_type": "markdown",
   "metadata": {},
   "source": [
    "Query que busca os tratamentos mais utilizados para fatique o segundo sintoma com mais ocorrências na tabela."
   ]
  },
  {
   "cell_type": "code",
   "execution_count": 8,
   "metadata": {},
   "outputs": [
    {
     "data": {
      "application/vnd.jupyter.widget-view+json": {
       "model_id": "14d4ef5d-7603-4160-8fcb-0759f823f244",
       "version_major": 2,
       "version_minor": 0
      },
      "method": "display_data"
     },
     "metadata": {},
     "output_type": "display_data"
    }
   ],
   "source": [
    "CREATE VIEW Fatigue AS\n",
    "SELECT id_paciente AS id\n",
    "FROM Possui\n",
    "WHERE id_track = 242;\n",
    "\n",
    "SELECT DISTINCT trackable_name AS name, COUNT(trackable_name) as contador\n",
    "FROM Possui,Fatigue,Trackable\n",
    "WHERE Fatigue.id = Possui.id_paciente AND Trackable.trackable_type = 'Treatment' \n",
    "AND Possui.id_track = Trackable.trackable_id\n",
    "GROUP BY name\n",
    "ORDER BY contador DESC"
   ]
  },
  {
   "cell_type": "markdown",
   "metadata": {},
   "source": [
    "Query que retorna o número de pacientes do sexo masculino."
   ]
  },
  {
   "cell_type": "code",
   "execution_count": 9,
   "metadata": {},
   "outputs": [
    {
     "data": {
      "text/plain": [
       "3059"
      ]
     },
     "execution_count": 9,
     "metadata": {},
     "output_type": "execute_result"
    }
   ],
   "source": [
    "SELECT COUNT(*)\n",
    "FROM Paciente\n",
    "WHERE Paciente.Sex = 'female'"
   ]
  },
  {
   "cell_type": "markdown",
   "metadata": {},
   "source": [
    "Query que retorna o número de pacientes do sexo feminino."
   ]
  },
  {
   "cell_type": "code",
   "execution_count": 10,
   "metadata": {},
   "outputs": [
    {
     "data": {
      "text/plain": [
       "211"
      ]
     },
     "execution_count": 10,
     "metadata": {},
     "output_type": "execute_result"
    }
   ],
   "source": [
    "SELECT COUNT(*)\n",
    "FROM Paciente\n",
    "WHERE Paciente.Sex = 'male'"
   ]
  },
  {
   "cell_type": "markdown",
   "metadata": {},
   "source": [
    "Query que retorna as doenças mais acometidos entre os pacientes do sexo masculino."
   ]
  },
  {
   "cell_type": "code",
   "execution_count": 19,
   "metadata": {},
   "outputs": [
    {
     "data": {
      "application/vnd.jupyter.widget-view+json": {
       "model_id": "19ae347b-83d9-4ec6-878f-2104b328aee6",
       "version_major": 2,
       "version_minor": 0
      },
      "method": "display_data"
     },
     "metadata": {},
     "output_type": "display_data"
    }
   ],
   "source": [
    "SELECT DISTINCT trackable_name AS name,COUNT(trackable_name) AS contador\n",
    "FROM Possui,Trackable,Paciente\n",
    "WHERE Paciente.User_id = Possui.id_paciente AND Possui.id_track = Trackable.trackable_id \n",
    "AND Trackable.trackable_type = 'Condition' AND Paciente.Sex = 'male'\n",
    "GROUP BY name\n",
    "ORDER BY contador DESC"
   ]
  },
  {
   "cell_type": "markdown",
   "metadata": {},
   "source": [
    "Query que retorna os sintomas mais acometidos entre os pacientes do sexo feminino."
   ]
  },
  {
   "cell_type": "code",
   "execution_count": 20,
   "metadata": {},
   "outputs": [
    {
     "data": {
      "application/vnd.jupyter.widget-view+json": {
       "model_id": "f70a92ab-cd5e-41e5-ae55-2abc08049516",
       "version_major": 2,
       "version_minor": 0
      },
      "method": "display_data"
     },
     "metadata": {},
     "output_type": "display_data"
    }
   ],
   "source": [
    "SELECT DISTINCT trackable_name AS name,COUNT(trackable_name) AS contador\n",
    "FROM Possui,Trackable,Paciente\n",
    "WHERE Paciente.User_id = Possui.id_paciente AND Possui.id_track = Trackable.trackable_id \n",
    "AND Trackable.trackable_type = 'Condition' AND Paciente.Sex = 'female'\n",
    "GROUP BY name\n",
    "ORDER BY contador DESC"
   ]
  },
  {
   "cell_type": "markdown",
   "metadata": {},
   "source": [
    "Query que retorna as doenças mais acometidos em pacientes abaixo de 20 anos."
   ]
  },
  {
   "cell_type": "code",
   "execution_count": 21,
   "metadata": {},
   "outputs": [
    {
     "data": {
      "application/vnd.jupyter.widget-view+json": {
       "model_id": "b40d4818-8857-4673-89dc-87697f5cd6fd",
       "version_major": 2,
       "version_minor": 0
      },
      "method": "display_data"
     },
     "metadata": {},
     "output_type": "display_data"
    }
   ],
   "source": [
    "SELECT DISTINCT trackable_name AS name,COUNT(trackable_name) AS contador\n",
    "FROM Possui,Trackable,Paciente\n",
    "WHERE Paciente.User_id = Possui.id_paciente AND Possui.id_track = Trackable.trackable_id AND Trackable.trackable_type = 'Condition' AND Paciente.Age <= 20 \n",
    "GROUP BY name\n",
    "ORDER BY contador DESC"
   ]
  },
  {
   "cell_type": "markdown",
   "metadata": {},
   "source": [
    "Query que retorna as doenças mais acometidos em pacientes entre 20 anos e 50 anos."
   ]
  },
  {
   "cell_type": "code",
   "execution_count": 22,
   "metadata": {},
   "outputs": [
    {
     "data": {
      "application/vnd.jupyter.widget-view+json": {
       "model_id": "a5453efe-c514-4a58-aade-1813eb4274c1",
       "version_major": 2,
       "version_minor": 0
      },
      "method": "display_data"
     },
     "metadata": {},
     "output_type": "display_data"
    }
   ],
   "source": [
    "SELECT DISTINCT trackable_name AS name,COUNT(trackable_name) AS contador\n",
    "FROM Possui,Trackable,Paciente\n",
    "WHERE Paciente.User_id = Possui.id_paciente AND Possui.id_track = Trackable.trackable_id \n",
    "AND Trackable.trackable_type = 'Condition' AND Paciente.Age >= 20 AND Paciente.Age <= 50\n",
    "GROUP BY name\n",
    "ORDER BY contador DESC"
   ]
  },
  {
   "cell_type": "markdown",
   "metadata": {},
   "source": [
    "Query que retorna as doenças mais acometidos entre pacientes com mais de 50 anos."
   ]
  },
  {
   "cell_type": "code",
   "execution_count": 23,
   "metadata": {},
   "outputs": [
    {
     "data": {
      "application/vnd.jupyter.widget-view+json": {
       "model_id": "e23cb71c-23e6-4c01-8eeb-0539f6ec4a60",
       "version_major": 2,
       "version_minor": 0
      },
      "method": "display_data"
     },
     "metadata": {},
     "output_type": "display_data"
    }
   ],
   "source": [
    "SELECT DISTINCT trackable_name AS name,COUNT(trackable_name) AS contador\n",
    "FROM Possui,Trackable,Paciente\n",
    "WHERE Paciente.User_id = Possui.id_paciente AND Possui.id_track = Trackable.trackable_id AND Trackable.trackable_type = 'Condition' AND Paciente.Age >= 60 \n",
    "GROUP BY name\n",
    "ORDER BY contador DESC"
   ]
  },
  {
   "cell_type": "code",
   "execution_count": null,
   "metadata": {},
   "outputs": [],
   "source": [
    "Query que retorna a quantidade de occorencias de tal doença em um determinado país."
   ]
  },
  {
   "cell_type": "code",
   "execution_count": 18,
   "metadata": {},
   "outputs": [
    {
     "data": {
      "application/vnd.jupyter.widget-view+json": {
       "model_id": "a6b496f8-c18c-4cbb-9637-765249954d37",
       "version_major": 2,
       "version_minor": 0
      },
      "method": "display_data"
     },
     "metadata": {},
     "output_type": "display_data"
    }
   ],
   "source": [
    "SELECT DISTINCT country,trackable_name AS name,COUNT(trackable_name) AS contador\n",
    "FROM Possui,Trackable,Paciente\n",
    "WHERE Paciente.User_id = Possui.id_paciente AND Possui.id_track = Trackable.trackable_id AND Trackable.trackable_type = 'Condition'\n",
    "GROUP BY name,country\n",
    "ORDER BY contador DESC"
   ]
  }
 ],
 "metadata": {
  "kernelspec": {
   "display_name": "SQL",
   "language": "SQL",
   "name": "sql"
  },
  "language_info": {
   "codemirror_mode": "sql",
   "file_extension": ".sql",
   "mimetype": "",
   "name": "SQL",
   "nbconverter_exporter": "",
   "version": ""
  }
 },
 "nbformat": 4,
 "nbformat_minor": 2
}
