{
 "cells": [
  {
   "cell_type": "code",
   "execution_count": 1,
   "metadata": {},
   "outputs": [],
   "source": [
    "%defaultDatasource jdbc:h2:mem:db"
   ]
  },
  {
   "cell_type": "code",
   "execution_count": 2,
   "metadata": {},
   "outputs": [],
   "source": [
    "CREATE TABLE Paciente (\n",
    "  User_id VARCHAR(50) NOT NULL,\n",
    "  Age INTEGER,\n",
    "  Sex VARCHAR(30),\n",
    "  Country VARCHAR(10),\n",
    "  PRIMARY KEY(User_id)\n",
    ") AS SELECT DISTINCT\n",
    "    user_id,\n",
    "    age,\n",
    "    sex,\n",
    "    country\n",
    "FROM CSVREAD('https://media.githubusercontent.com/media/TiagodePAlves/mc536-projeto/master/dados/flaredown.csv');\n",
    "\n",
    "CREATE TABLE Trackable (\n",
    "  trackable_id INTEGER,\n",
    "  trackable_type VARCHAR(30),\n",
    "  trackable_name VARCHAR(300),\n",
    "  PRIMARY KEY(trackable_id)\n",
    ") AS SELECT DISTINCT\n",
    "    trackable_id,\n",
    "    trackable_type,\n",
    "    trackable_name\n",
    "FROM CSVREAD('https://media.githubusercontent.com/media/TiagodePAlves/mc536-projeto/master/dados/flaredown.csv');\n",
    "\n",
    "CREATE TABLE Possui (\n",
    "  id_paciente VARCHAR(100),\n",
    "  id_track INTEGER,  \n",
    "  checkin_date VARCHAR(10),\n",
    "  trackable_value VARCHAR(100),\n",
    "  FOREIGN KEY(id_paciente)\n",
    "    REFERENCES Paciente(User_id)\n",
    "      ON DELETE NO ACTION\n",
    "      ON UPDATE NO ACTION,\n",
    "  FOREIGN KEY(id_track)\n",
    "    REFERENCES Trackable(trackable_id)\n",
    "      ON DELETE NO ACTION\n",
    "      ON UPDATE NO ACTION\n",
    ") AS SELECT DISTINCT\n",
    "    user_id,\n",
    "    trackable_id,\n",
    "    checkin_date,\n",
    "    trackable_value\n",
    "FROM CSVREAD('https://media.githubusercontent.com/media/TiagodePAlves/mc536-projeto/master/dados/flaredown.csv');"
   ]
  },
  {
   "cell_type": "code",
   "execution_count": 3,
   "metadata": {},
   "outputs": [
    {
     "data": {
      "application/vnd.jupyter.widget-view+json": {
       "model_id": "b6a1e1d4-82bc-4d07-85f7-9da2eb850d94",
       "version_major": 2,
       "version_minor": 0
      },
      "method": "display_data"
     },
     "metadata": {},
     "output_type": "display_data"
    }
   ],
   "source": [
    "SELECT * FROM Paciente"
   ]
  },
  {
   "cell_type": "markdown",
   "metadata": {},
   "source": [
    "Query que retorna o numero de instancias de cada tipo de trackable."
   ]
  },
  {
   "cell_type": "code",
   "execution_count": 4,
   "metadata": {},
   "outputs": [
    {
     "data": {
      "application/vnd.jupyter.widget-view+json": {
       "model_id": "6de226b4-9a8d-42ac-82c6-952933a6102f",
       "version_major": 2,
       "version_minor": 0
      },
      "method": "display_data"
     },
     "metadata": {},
     "output_type": "display_data"
    }
   ],
   "source": [
    "SELECT trackable_type AS type,COUNT(trackable_type) AS contador\n",
    "FROM Trackable\n",
    "GROUP BY type\n",
    "ORDER BY contador DESC"
   ]
  },
  {
   "cell_type": "markdown",
   "metadata": {},
   "source": [
    "Query que retorna os sintomas que possuem mais ocorrência."
   ]
  },
  {
   "cell_type": "code",
   "execution_count": 5,
   "metadata": {},
   "outputs": [
    {
     "data": {
      "application/vnd.jupyter.widget-view+json": {
       "model_id": "473291f5-28c8-4da4-a9bb-1dd543df8777",
       "version_major": 2,
       "version_minor": 0
      },
      "method": "display_data"
     },
     "metadata": {},
     "output_type": "display_data"
    }
   ],
   "source": [
    "SELECT DISTINCT trackable_name AS name,COUNT(trackable_name) AS contador\n",
    "FROM Possui,Trackable,Paciente\n",
    "WHERE Paciente.User_id = Possui.id_paciente AND Possui.id_track = Trackable.trackable_id AND Trackable.trackable_type = 'Symptom'\n",
    "GROUP BY name\n",
    "ORDER BY contador DESC"
   ]
  },
  {
   "cell_type": "markdown",
   "metadata": {},
   "source": [
    "Query que retorna os tratamentos mais utilizados."
   ]
  },
  {
   "cell_type": "code",
   "execution_count": 6,
   "metadata": {},
   "outputs": [
    {
     "data": {
      "application/vnd.jupyter.widget-view+json": {
       "model_id": "2ec2a595-674a-4a11-a45c-0355fd1e1ad6",
       "version_major": 2,
       "version_minor": 0
      },
      "method": "display_data"
     },
     "metadata": {},
     "output_type": "display_data"
    }
   ],
   "source": [
    "SELECT DISTINCT trackable_name AS name,COUNT(trackable_name) AS contador\n",
    "FROM Possui,Trackable,Paciente\n",
    "WHERE Paciente.User_id = Possui.id_paciente AND Possui.id_track = Trackable.trackable_id AND Trackable.trackable_type = 'Treatment'\n",
    "GROUP BY name\n",
    "ORDER BY contador DESC"
   ]
  },
  {
   "cell_type": "markdown",
   "metadata": {},
   "source": [
    "Query que busca os tratamentos mais utilizados para headache a doença cronica com mais ocorrências na tabela."
   ]
  },
  {
   "cell_type": "code",
   "execution_count": 7,
   "metadata": {},
   "outputs": [
    {
     "data": {
      "application/vnd.jupyter.widget-view+json": {
       "model_id": "e93ce545-2f23-41ba-b362-7ecba5f59e35",
       "version_major": 2,
       "version_minor": 0
      },
      "method": "display_data"
     },
     "metadata": {},
     "output_type": "display_data"
    }
   ],
   "source": [
    "CREATE VIEW Head AS\n",
    "SELECT id_paciente AS id\n",
    "FROM Possui\n",
    "WHERE id_track = 98;\n",
    "\n",
    "SELECT DISTINCT trackable_name AS name, COUNT(trackable_name) as contador\n",
    "FROM Possui,Head,Trackable\n",
    "WHERE Head.id = Possui.id_paciente AND Trackable.trackable_type = 'Treatment' AND Possui.id_track = Trackable.trackable_id\n",
    "GROUP BY name\n",
    "ORDER BY contador DESC"
   ]
  },
  {
   "cell_type": "markdown",
   "metadata": {},
   "source": [
    "Query que busca os tratamentos mais utilizados para fatique a segunda doença cronica com mais ocorrências na tabela."
   ]
  },
  {
   "cell_type": "code",
   "execution_count": 8,
   "metadata": {},
   "outputs": [
    {
     "data": {
      "application/vnd.jupyter.widget-view+json": {
       "model_id": "389dd612-9bd4-4330-bcc2-32d912b9de74",
       "version_major": 2,
       "version_minor": 0
      },
      "method": "display_data"
     },
     "metadata": {},
     "output_type": "display_data"
    }
   ],
   "source": [
    "CREATE VIEW Fatigue AS\n",
    "SELECT id_paciente AS id\n",
    "FROM Possui\n",
    "WHERE id_track = 242;\n",
    "\n",
    "SELECT DISTINCT trackable_name AS name, COUNT(trackable_name) as contador\n",
    "FROM Possui,Fatigue,Trackable\n",
    "WHERE Fatigue.id = Possui.id_paciente AND Trackable.trackable_type = 'Treatment' AND Possui.id_track = Trackable.trackable_id\n",
    "GROUP BY name\n",
    "ORDER BY contador DESC"
   ]
  },
  {
   "cell_type": "markdown",
   "metadata": {},
   "source": [
    "Query que retorna o número de pacientes do sexo masculino."
   ]
  },
  {
   "cell_type": "code",
   "execution_count": 15,
   "metadata": {},
   "outputs": [
    {
     "data": {
      "text/plain": [
       "3059"
      ]
     },
     "execution_count": 15,
     "metadata": {},
     "output_type": "execute_result"
    }
   ],
   "source": [
    "SELECT COUNT(*)\n",
    "FROM Paciente\n",
    "WHERE Paciente.Sex = 'female'"
   ]
  },
  {
   "cell_type": "markdown",
   "metadata": {},
   "source": [
    "Query que retorna o número de pacientes do sexo feminino."
   ]
  },
  {
   "cell_type": "code",
   "execution_count": 16,
   "metadata": {},
   "outputs": [
    {
     "data": {
      "text/plain": [
       "211"
      ]
     },
     "execution_count": 16,
     "metadata": {},
     "output_type": "execute_result"
    }
   ],
   "source": [
    "SELECT COUNT(*)\n",
    "FROM Paciente\n",
    "WHERE Paciente.Sex = 'male'"
   ]
  },
  {
   "cell_type": "markdown",
   "metadata": {},
   "source": [
    "Query que retorna os sintomas mais acometidos entre os pacientes do sexo masculino."
   ]
  },
  {
   "cell_type": "code",
   "execution_count": 9,
   "metadata": {},
   "outputs": [
    {
     "data": {
      "application/vnd.jupyter.widget-view+json": {
       "model_id": "7c45d09c-2d02-4069-80ed-fc5c54b9033a",
       "version_major": 2,
       "version_minor": 0
      },
      "method": "display_data"
     },
     "metadata": {},
     "output_type": "display_data"
    }
   ],
   "source": [
    "SELECT DISTINCT trackable_name AS name,COUNT(trackable_name) AS contador\n",
    "FROM Possui,Trackable,Paciente\n",
    "WHERE Paciente.User_id = Possui.id_paciente AND Possui.id_track = Trackable.trackable_id AND Trackable.trackable_type = 'Symptom' AND Paciente.Sex = 'male'\n",
    "GROUP BY name\n",
    "ORDER BY contador DESC"
   ]
  },
  {
   "cell_type": "markdown",
   "metadata": {},
   "source": [
    "Query que retorna os sintomas mais acometidos entre os pacientes do sexo feminino."
   ]
  },
  {
   "cell_type": "code",
   "execution_count": 14,
   "metadata": {},
   "outputs": [
    {
     "data": {
      "application/vnd.jupyter.widget-view+json": {
       "model_id": "fbf67f5e-98a7-4900-9dce-8d502a85e8e1",
       "version_major": 2,
       "version_minor": 0
      },
      "method": "display_data"
     },
     "metadata": {},
     "output_type": "display_data"
    }
   ],
   "source": [
    "SELECT DISTINCT trackable_name AS name,COUNT(trackable_name) AS contador\n",
    "FROM Possui,Trackable,Paciente\n",
    "WHERE Paciente.User_id = Possui.id_paciente AND Possui.id_track = Trackable.trackable_id AND Trackable.trackable_type = 'Symptom' AND Paciente.Sex = 'female'\n",
    "GROUP BY name\n",
    "ORDER BY contador DESC"
   ]
  },
  {
   "cell_type": "markdown",
   "metadata": {},
   "source": [
    "Query que retorna os sintomas mais acometidos em pacientes abaixo de 20 anos."
   ]
  },
  {
   "cell_type": "code",
   "execution_count": 17,
   "metadata": {},
   "outputs": [
    {
     "data": {
      "application/vnd.jupyter.widget-view+json": {
       "model_id": "47e99100-f3b7-4b8d-8864-56f75db33a67",
       "version_major": 2,
       "version_minor": 0
      },
      "method": "display_data"
     },
     "metadata": {},
     "output_type": "display_data"
    }
   ],
   "source": [
    "SELECT DISTINCT trackable_name AS name,COUNT(trackable_name) AS contador\n",
    "FROM Possui,Trackable,Paciente\n",
    "WHERE Paciente.User_id = Possui.id_paciente AND Possui.id_track = Trackable.trackable_id AND Trackable.trackable_type = 'Symptom' AND Paciente.Age <= 20 \n",
    "GROUP BY name\n",
    "ORDER BY contador DESC"
   ]
  },
  {
   "cell_type": "markdown",
   "metadata": {},
   "source": [
    "Query que retorna os sintomas mais acometidos em pacientes entre 20 anos e 50 anos."
   ]
  },
  {
   "cell_type": "code",
   "execution_count": 20,
   "metadata": {},
   "outputs": [
    {
     "data": {
      "application/vnd.jupyter.widget-view+json": {
       "model_id": "cdde54d9-2f90-42cc-b412-3b62d8dd3245",
       "version_major": 2,
       "version_minor": 0
      },
      "method": "display_data"
     },
     "metadata": {},
     "output_type": "display_data"
    }
   ],
   "source": [
    "SELECT DISTINCT trackable_name AS name,COUNT(trackable_name) AS contador\n",
    "FROM Possui,Trackable,Paciente\n",
    "WHERE Paciente.User_id = Possui.id_paciente AND Possui.id_track = Trackable.trackable_id AND Trackable.trackable_type = 'Symptom' AND Paciente.Age >= 20 AND Paciente.Age <= 50\n",
    "GROUP BY name\n",
    "ORDER BY contador DESC"
   ]
  },
  {
   "cell_type": "markdown",
   "metadata": {},
   "source": [
    "Query que retorna os sintomas mais acometidos entre pacientes com mais de 50 anos."
   ]
  },
  {
   "cell_type": "code",
   "execution_count": 21,
   "metadata": {},
   "outputs": [
    {
     "data": {
      "application/vnd.jupyter.widget-view+json": {
       "model_id": "76e8bc6c-acfb-4c7a-a8f1-571170d083e6",
       "version_major": 2,
       "version_minor": 0
      },
      "method": "display_data"
     },
     "metadata": {},
     "output_type": "display_data"
    }
   ],
   "source": [
    "SELECT DISTINCT trackable_name AS name,COUNT(trackable_name) AS contador\n",
    "FROM Possui,Trackable,Paciente\n",
    "WHERE Paciente.User_id = Possui.id_paciente AND Possui.id_track = Trackable.trackable_id AND Trackable.trackable_type = 'Symptom' AND Paciente.Age >= 60 \n",
    "GROUP BY name\n",
    "ORDER BY contador DESC"
   ]
  },
  {
   "cell_type": "code",
   "execution_count": null,
   "metadata": {},
   "outputs": [],
   "source": []
  },
  {
   "cell_type": "code",
   "execution_count": 31,
   "metadata": {},
   "outputs": [
    {
     "data": {
      "application/vnd.jupyter.widget-view+json": {
       "model_id": "a7b6d68d-4e2e-4b68-bbf4-b717a191590c",
       "version_major": 2,
       "version_minor": 0
      },
      "method": "display_data"
     },
     "metadata": {},
     "output_type": "display_data"
    }
   ],
   "source": [
    "SELECT DISTINCT country,trackable_name AS name,COUNT(trackable_name) AS contador\n",
    "FROM Possui,Trackable,Paciente\n",
    "WHERE Paciente.User_id = Possui.id_paciente AND Possui.id_track = Trackable.trackable_id AND Trackable.trackable_type = 'Symptom'\n",
    "GROUP BY name,country\n",
    "ORDER BY name DESC"
   ]
  }
 ],
 "metadata": {
  "kernelspec": {
   "display_name": "SQL",
   "language": "SQL",
   "name": "sql"
  },
  "language_info": {
   "codemirror_mode": "sql",
   "file_extension": ".sql",
   "mimetype": "",
   "name": "SQL",
   "nbconverter_exporter": "",
   "version": ""
  },
  "toc": {
   "base_numbering": 1,
   "nav_menu": {},
   "number_sections": false,
   "sideBar": false,
   "skip_h1_title": false,
   "title_cell": "Table of Contents",
   "title_sidebar": "Contents",
   "toc_cell": false,
   "toc_position": {},
   "toc_section_display": false,
   "toc_window_display": false
  },
  "varInspector": {
   "cols": {
    "lenName": 16,
    "lenType": 16,
    "lenVar": 40
   },
   "kernels_config": {
    "python": {
     "delete_cmd_postfix": "",
     "delete_cmd_prefix": "del ",
     "library": "var_list.py",
     "varRefreshCmd": "print(var_dic_list())"
    },
    "r": {
     "delete_cmd_postfix": ") ",
     "delete_cmd_prefix": "rm(",
     "library": "var_list.r",
     "varRefreshCmd": "cat(var_dic_list()) "
    }
   },
   "types_to_exclude": [
    "module",
    "function",
    "builtin_function_or_method",
    "instance",
    "_Feature"
   ],
   "window_display": false
  }
 },
 "nbformat": 4,
 "nbformat_minor": 2
}
