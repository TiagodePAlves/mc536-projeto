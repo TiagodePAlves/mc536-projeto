{
 "cells": [
  {
   "cell_type": "markdown",
   "metadata": {},
   "source": [
    "```cypher\n",
    "CREATE CONSTRAINT ON (p:Paciente) ASSERT p.id IS UNIQUE;\n",
    "CREATE CONSTRAINT ON (r:Rastreavel) ASSERT r.id IS UNIQUE;\n",
    "CREATE CONSTRAINT ON (r:Rastreavel) ASSERT EXISTS(r.tipo);\n",
    "CREATE CONSTRAINT ON (r:Rastreavel) ASSERT EXISTS(r.nome);\n",
    "CREATE CONSTRAINT ON ()-[c:CHECKIN]-() ASSERT EXISTS(c.data);\n",
    "\n",
    "LOAD CSV WITH HEADERS FROM \"https://media.githubusercontent.com/media/TiagodePAlves/mc536-projeto/master/dados/flaredown.csv\" AS line\n",
    "WITH line\n",
    "WHERE line.user_id IS NOT NULL AND line.trackable_id IS NOT NULL\n",
    "MERGE (p:Paciente {id: line.user_id})\n",
    "\tON CREATE SET\n",
    "    \t(CASE WHEN line.age IS NOT NULL THEN p END).idade = toInteger(line.age),\n",
    "    \t(CASE WHEN line.sex IS NOT NULL THEN p END).sexo = line.sex,\n",
    "    \t(CASE WHEN line.country IS NOT NULL THEN p END).pais = line.country\n",
    "MERGE (r:Rastreavel {id: toInteger(line.trackable_id)})\n",
    "\tON CREATE SET\n",
    "    \tr.tipo = line.trackable_type,\n",
    "    \tr.nome = line.trackable_name\n",
    "CREATE (p)-[c:CHECKIN {data: datetime(line.checkin_date)}]->(r)\n",
    "SET (CASE WHEN line.line.trackable_value IS NOT NULL THEN c END).value = line.trackable_value;\n",
    "```"
   ]
  },
  {
   "cell_type": "markdown",
   "metadata": {},
   "source": [
    "```cypher\n",
    "CREATE CONSTRAINT ON (r:Sintoma) ASSERT r.id IS UNIQUE;\n",
    "CREATE CONSTRAINT ON (r:Sintoma) ASSERT EXISTS(r.tipo);\n",
    "CREATE CONSTRAINT ON (r:Sintoma) ASSERT EXISTS(r.nome);\n",
    "CREATE CONSTRAINT ON (r:Condicao) ASSERT r.id IS UNIQUE;\n",
    "CREATE CONSTRAINT ON (r:Condicao) ASSERT EXISTS(r.tipo);\n",
    "CREATE CONSTRAINT ON (r:Condica) ASSERT EXISTS(r.nome);\n",
    "CREATE CONSTRAINT ON (r:Outro) ASSERT r.id IS UNIQUE;\n",
    "CREATE CONSTRAINT ON (r:Outro) ASSERT EXISTS(r.tipo);\n",
    "CREATE CONSTRAINT ON (r:Outro) ASSERT EXISTS(r.nome);\n",
    "\n",
    "MATCH (r:Rastreavel {tipo: 'Symptom'})\n",
    "SET r:Sintoma;\n",
    "MATCH (r:Rastreavel {tipo: 'Condition'})\n",
    "SET r:Condicao;\n",
    "MATCH (r:Rastreavel)\n",
    "WHERE NOT r:Sintoma AND NOT r:Condicao\n",
    "SET r:Outro;\n",
    "```"
   ]
  },
  {
   "cell_type": "markdown",
   "metadata": {},
   "source": [
    "```cypher\n",
    "CREATE CONSTRAINT ON ()-[o:OCORRE_COM]-() ASSERT EXISTS(o.vezes);\n",
    "\n",
    "MATCH (r1:Rastreavel)<-[:CHECKIN]-(:Paciente)-[:CHECKIN]->(r2:Rastreavel)\n",
    "WHERE r1.id < r2.id\n",
    "MERGE (r1)-[o:OCORRE_COM]-(r2)\n",
    "    ON CREATE SET o.vezes = 1\n",
    "    ON MATCH SET o.vezes = o.vezes + 1;\n",
    "\n",
    "CALL algo.unionFind.stream('Rastreavel', 'OCORRE_COM', {})\n",
    "YIELD nodeId, setId\n",
    "WITH setId AS grupo, algo.getNodeById(nodeId) AS no\n",
    "SET no.grupo = grupo\n",
    "WITH grupo AS maior_grupo, COUNT(no) AS nos\n",
    "ORDER BY nos DESC\n",
    "LIMIT 1\n",
    "MATCH (r:Rastreavel)\n",
    "WHERE r.grupo <> maior_grupo\n",
    "DETACH DELETE r;\n",
    "\n",
    "MATCH (r:Rastreavel)\n",
    "SET r.grupo = NULL;\n",
    "```"
   ]
  },
  {
   "cell_type": "markdown",
   "metadata": {},
   "source": [
    "```cypher\n",
    "CALL algo.betweenness('Sintoma', 'OCORRE_COM', {direction:'both', write:true, writeProperty:'centralidade'})\n",
    "YIELD nodes, minCentrality, maxCentrality, sumCentrality, loadMillis, computeMillis, writeMillis;\n",
    "\n",
    "MATCH (s:Sintoma)\n",
    "RETURN s.nome, s.centralidade\n",
    "ORDER BY s.centralidade DESC\n",
    "LIMIT 10;\n",
    "```"
   ]
  },
  {
   "cell_type": "markdown",
   "metadata": {},
   "source": [
    "```cypher\n",
    "MATCH (c:Condicao)-[:OCORRE_COM]-(r:Rastreavel)\n",
    "WITH {item: id(c), categories: collect(id(r))} as ligacoesPorCondicao\n",
    "WITH collect(ligacoesPorCondicao) as dados\n",
    "CALL algo.similarity.jaccard.stream(dados, {topK: 1, similarityCutoff: 0.0})\n",
    "YIELD item1, item2, similarity\n",
    "WHERE item1 < item2\n",
    "RETURN algo.getNodeById(item1).nome AS c1, algo.getNodeById(item2).nome AS c2, similarity AS similaridade\n",
    "ORDER BY similaridade DESC\n",
    "```"
   ]
  },
  {
   "cell_type": "markdown",
   "metadata": {},
   "source": [
    "```cypher\n",
    "MATCH (c1:Condicao)-[o1:OCORRE_COM]-(s:Sintoma)-[o2:OCORRE_COM]-(c2:Condicao)\n",
    "WHERE c1.id < c2.id\n",
    "MERGE (c1)-[S:SIMILAR]-(c2)\n",
    "    ON CREATE SET S.peso = toFloat(o1.vezes*o2.vezes)/(1+s.centralidade)\n",
    "    ON MATCH SET S.peso = S.peso + toFloat(o1.vezes*o2.vezes)/(1+s.centralidade);\n",
    "\n",
    "MATCH (c1:Condicao)-[s:SIMILAR]-(c2:Condicao)\n",
    "WHERE c1.id < c2.id\n",
    "RETURN\n",
    "\tc1.nome, c2.nome, s.peso\n",
    "ORDER BY s.peso DESC\n",
    "LIMIT 10;\n",
    "```"
   ]
  },
  {
   "cell_type": "markdown",
   "metadata": {},
   "source": [
    "```cypher\n",
    "CALL algo.louvain('Sintoma', 'OCORRE_COM', {weightProperty:'vezes', write:true, writeProperty:'comunidade'})\n",
    "YIELD nodes, communityCount, iterations, loadMillis, computeMillis, writeMillis;\n",
    "\n",
    "MATCH (s:Sintoma)\n",
    "WITH s.comunidade AS comunidade, COUNT(s) AS nos\n",
    "ORDER BY nos DESC\n",
    "LIMIT 1\n",
    "MATCH (s:Sintoma {comunidade: comunidade})\n",
    "RETURN s;\n",
    "```"
   ]
  },
  {
   "cell_type": "markdown",
   "metadata": {},
   "source": [
    "```cypher\n",
    "MATCH (t:Outro {tipo: 'Treatment'})-[c:CHECKIN]-(:Paciente)\n",
    "RETURN t.nome AS tratamento, COUNT(c) AS usos\n",
    "ORDER BY usos DESC\n",
    "LIMIT 10;\n",
    "```"
   ]
  }
 ],
 "metadata": {
  "kernelspec": {
   "display_name": "Python 3",
   "language": "python",
   "name": "python3"
  },
  "language_info": {
   "codemirror_mode": {
    "name": "ipython",
    "version": 3
   },
   "file_extension": ".py",
   "mimetype": "text/x-python",
   "name": "python",
   "nbconvert_exporter": "python",
   "pygments_lexer": "ipython3",
   "version": "3.7.1"
  },
  "toc": {
   "base_numbering": 1,
   "nav_menu": {},
   "number_sections": false,
   "sideBar": false,
   "skip_h1_title": false,
   "title_cell": "Table of Contents",
   "title_sidebar": "Contents",
   "toc_cell": false,
   "toc_position": {},
   "toc_section_display": false,
   "toc_window_display": false
  },
  "varInspector": {
   "cols": {
    "lenName": 16,
    "lenType": 16,
    "lenVar": 40
   },
   "kernels_config": {
    "python": {
     "delete_cmd_postfix": "",
     "delete_cmd_prefix": "del ",
     "library": "var_list.py",
     "varRefreshCmd": "print(var_dic_list())"
    },
    "r": {
     "delete_cmd_postfix": ") ",
     "delete_cmd_prefix": "rm(",
     "library": "var_list.r",
     "varRefreshCmd": "cat(var_dic_list()) "
    }
   },
   "types_to_exclude": [
    "module",
    "function",
    "builtin_function_or_method",
    "instance",
    "_Feature"
   ],
   "window_display": false
  }
 },
 "nbformat": 4,
 "nbformat_minor": 2
}
