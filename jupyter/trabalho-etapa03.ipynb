{
 "cells": [
  {
   "cell_type": "markdown",
   "metadata": {},
   "source": [
    "```cypher\n",
    "CREATE CONSTRAINT ON (p:Paciente) ASSERT p.id IS UNIQUE;\n",
    "CREATE CONSTRAINT ON (r:Rastreavel) ASSERT r.id IS UNIQUE;\n",
    "CREATE CONSTRAINT ON (r:Rastreavel) ASSERT EXISTS(r.tipo);\n",
    "CREATE CONSTRAINT ON (r:Rastreavel) ASSERT EXISTS(r.nome);\n",
    "CREATE CONSTRAINT ON ()-[c:CHECKIN]-() ASSERT EXISTS(c.date);\n",
    "\n",
    "LOAD CSV WITH HEADERS FROM \"https://media.githubusercontent.com/media/TiagodePAlves/mc536-projeto/master/dados/flaredown.csv\" AS line\n",
    "WITH line\n",
    "WHERE line.user_id IS NOT NULL AND line.trackable_id IS NOT NULL\n",
    "MERGE (p:Paciente {id: line.user_id})\n",
    "\tON CREATE SET\n",
    "    \t(CASE WHEN line.age IS NOT NULL THEN p END).idade = toInteger(line.age),\n",
    "    \t(CASE WHEN line.sex IS NOT NULL THEN p END).sexo = line.sex,\n",
    "    \t(CASE WHEN line.country IS NOT NULL THEN p END).pais = line.country\n",
    "MERGE (r:Rastreavel {id: toInteger(line.trackable_id)})\n",
    "\tON CREATE SET\n",
    "    \tr.tipo = line.trackable_type,\n",
    "    \tr.nome = line.trackable_name\n",
    "CREATE (p)-[c:CHECKIN {date: datetime(line.checkin_date)}]->(r)\n",
    "SET (CASE WHEN line.line.trackable_value IS NOT NULL THEN c END).value = line.trackable_value;\n",
    "```"
   ]
  },
  {
   "cell_type": "markdown",
   "metadata": {},
   "source": [
    "```cypher\n",
    "CREATE CONSTRAINT ON ()-[o:OCORRE_COM]-() ASSERT EXISTS(o.em);\n",
    "\n",
    "MATCH (r1:Rastreavel)<-[:CHECKIN]-(p:Paciente)-[:CHECKIN]->(r2:Rastreavel)\n",
    "WHERE r1 <> r2\n",
    "CREATE (r1)-[:OCORRE_COM {em: p.id}]->(r2);\n",
    "```"
   ]
  }
 ],
 "metadata": {
  "kernelspec": {
   "display_name": "Python 3",
   "language": "python",
   "name": "python3"
  },
  "language_info": {
   "codemirror_mode": {
    "name": "ipython",
    "version": 3
   },
   "file_extension": ".py",
   "mimetype": "text/x-python",
   "name": "python",
   "nbconvert_exporter": "python",
   "pygments_lexer": "ipython3",
   "version": "3.7.1"
  },
  "toc": {
   "base_numbering": 1,
   "nav_menu": {},
   "number_sections": false,
   "sideBar": false,
   "skip_h1_title": false,
   "title_cell": "Table of Contents",
   "title_sidebar": "Contents",
   "toc_cell": false,
   "toc_position": {},
   "toc_section_display": false,
   "toc_window_display": false
  },
  "varInspector": {
   "cols": {
    "lenName": 16,
    "lenType": 16,
    "lenVar": 40
   },
   "kernels_config": {
    "python": {
     "delete_cmd_postfix": "",
     "delete_cmd_prefix": "del ",
     "library": "var_list.py",
     "varRefreshCmd": "print(var_dic_list())"
    },
    "r": {
     "delete_cmd_postfix": ") ",
     "delete_cmd_prefix": "rm(",
     "library": "var_list.r",
     "varRefreshCmd": "cat(var_dic_list()) "
    }
   },
   "types_to_exclude": [
    "module",
    "function",
    "builtin_function_or_method",
    "instance",
    "_Feature"
   ],
   "window_display": false
  }
 },
 "nbformat": 4,
 "nbformat_minor": 2
}
