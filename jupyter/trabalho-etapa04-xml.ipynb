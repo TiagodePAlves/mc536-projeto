{
 "cells": [
  {
   "cell_type": "code",
   "execution_count": 1,
   "metadata": {
    "ExecuteTime": {
     "end_time": "2018-11-29T11:15:31.778918Z",
     "start_time": "2018-11-29T11:15:31.772167Z"
    }
   },
   "outputs": [],
   "source": [
    "from IPython.core import magic\n",
    "import subprocess\n",
    "import os\n",
    "\n",
    "\n",
    "@magic.magics_class\n",
    "class XQuery(magic.Magics):\n",
    "\n",
    "    @magic.cell_magic\n",
    "    def xquery(self, line, cell):\n",
    "        tempfile = \".tmp.run.xquery\"\n",
    "        with open(tempfile, 'w+') as temp:\n",
    "            temp.write(cell)\n",
    "\n",
    "        cmd = subprocess.Popen(['xqilla', tempfile], stdout=subprocess.PIPE)\n",
    "        print(cmd.communicate()[0].decode('utf-8'))\n",
    "        os.remove(tempfile)\n",
    "        \n",
    "\n",
    "get_ipython().register_magics(XQuery)"
   ]
  },
  {
   "cell_type": "markdown",
   "metadata": {},
   "source": [
    "```xquery\n",
    "let $users := doc('https://raw.githubusercontent.com/TiagodePAlves/mc536-projeto/master/dados/users.xml')\n",
    "\n",
    "for $user in ($users//user)\n",
    "order by count($user/checkin) descending\n",
    "return\n",
    "<user checkins=\"{count($user/checkin)}\">\n",
    "    {data($user/@id)}\n",
    "</user>\n",
    "```"
   ]
  },
  {
   "cell_type": "code",
   "execution_count": 15,
   "metadata": {
    "ExecuteTime": {
     "end_time": "2018-11-29T11:21:28.937927Z",
     "start_time": "2018-11-29T11:21:24.641079Z"
    }
   },
   "outputs": [
    {
     "name": "stdout",
     "output_type": "stream",
     "text": [
      "<user><age>18</age><country>CA</country></user>\n",
      "<user><age>12</age><country>US</country></user>\n",
      "<user><age>17</age><country>US</country></user>\n",
      "<user><age>19</age><country>US</country></user>\n",
      "<user><age>0</age><country>NZ</country></user>\n",
      "<user><age>16</age><country>US</country></user>\n",
      "<user><age>17</age><country>US</country></user>\n",
      "<user><age>17</age><country>US</country></user>\n",
      "<user><age>16</age><country>GB</country></user>\n",
      "<user><age>19</age><country>AU</country></user>\n",
      "<user><age>2</age><country>US</country></user>\n",
      "<user><age>19</age><country>US</country></user>\n",
      "<user><age>19</age><country>NZ</country></user>\n",
      "<user><age>19</age><country>US</country></user>\n",
      "<user><age>18</age><country>US</country></user>\n",
      "\n"
     ]
    }
   ],
   "source": [
    "%%xquery\n",
    "let $users := doc('https://raw.githubusercontent.com/TiagodePAlves/mc536-projeto/master/dados/users.xml')\n",
    "let $tracks := doc('https://raw.githubusercontent.com/TiagodePAlves/mc536-projeto/master/dados/trackables.xml')\n",
    "\n",
    "for $user in ($users//user),\n",
    "    $track in ($tracks//*[@id])\n",
    "where $track/label = 'Headache'\n",
    "    and $user/age < 20\n",
    "    and $user/checkin/trackable = $track/@id\n",
    "return\n",
    "<user>\n",
    "    {$user/age}\n",
    "    {$user/country}\n",
    "</user>"
   ]
  }
 ],
 "metadata": {
  "kernelspec": {
   "display_name": "Python 3",
   "language": "python",
   "name": "python3"
  },
  "language_info": {
   "codemirror_mode": {
    "name": "ipython",
    "version": 3
   },
   "file_extension": ".py",
   "mimetype": "text/x-python",
   "name": "python",
   "nbconvert_exporter": "python",
   "pygments_lexer": "ipython3",
   "version": "3.7.1"
  },
  "toc": {
   "base_numbering": 1,
   "nav_menu": {},
   "number_sections": false,
   "sideBar": false,
   "skip_h1_title": false,
   "title_cell": "Table of Contents",
   "title_sidebar": "Contents",
   "toc_cell": false,
   "toc_position": {},
   "toc_section_display": false,
   "toc_window_display": false
  },
  "varInspector": {
   "cols": {
    "lenName": 16,
    "lenType": 16,
    "lenVar": 40
   },
   "kernels_config": {
    "python": {
     "delete_cmd_postfix": "",
     "delete_cmd_prefix": "del ",
     "library": "var_list.py",
     "varRefreshCmd": "print(var_dic_list())"
    },
    "r": {
     "delete_cmd_postfix": ") ",
     "delete_cmd_prefix": "rm(",
     "library": "var_list.r",
     "varRefreshCmd": "cat(var_dic_list()) "
    }
   },
   "types_to_exclude": [
    "module",
    "function",
    "builtin_function_or_method",
    "instance",
    "_Feature"
   ],
   "window_display": false
  }
 },
 "nbformat": 4,
 "nbformat_minor": 2
}
